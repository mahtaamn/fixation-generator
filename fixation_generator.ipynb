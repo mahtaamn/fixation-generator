{
 "cells": [
  {
   "cell_type": "code",
   "execution_count": 24,
   "id": "2f29b2e7",
   "metadata": {},
   "outputs": [],
   "source": [
    "import pandas as pd\n",
    "import numpy as np\n",
    "import matplotlib.pyplot as plt\n",
    "import seaborn as sns\n",
    "from scipy.stats import norm\n"
   ]
  },
  {
   "cell_type": "code",
   "execution_count": 25,
   "id": "84e293e2",
   "metadata": {},
   "outputs": [],
   "source": [
    "import os \n",
    "main_dir = os.getcwd()\n",
    "#print(main_dir)"
   ]
  },
  {
   "cell_type": "code",
   "execution_count": 26,
   "id": "3e26c57f",
   "metadata": {},
   "outputs": [],
   "source": [
    "#set variables===========================\n",
    "user_id = str(104)"
   ]
  },
  {
   "cell_type": "code",
   "execution_count": 27,
   "id": "90eade34",
   "metadata": {},
   "outputs": [],
   "source": [
    "#read java info file\n",
    "java_data = pd.read_excel(main_dir+ '/java-info.xlsx')\n",
    "java_data_columns = java_data.columns"
   ]
  },
  {
   "cell_type": "code",
   "execution_count": 28,
   "id": "153a657a",
   "metadata": {},
   "outputs": [],
   "source": [
    "user_dir = main_dir + '/raw_data/p' + user_id\n"
   ]
  },
  {
   "cell_type": "code",
   "execution_count": 29,
   "id": "ad5d9a72",
   "metadata": {},
   "outputs": [],
   "source": [
    "#funciton to get the name of all files in the directory\n",
    "def get_file_names(directory):\n",
    "    file_names = []\n",
    "    for root, dirs, files in os.walk(directory):\n",
    "        for file in files:\n",
    "            file_names.append(file)\n",
    "    return sorted(file_names)"
   ]
  },
  {
   "cell_type": "code",
   "execution_count": 30,
   "id": "8b1f8d17",
   "metadata": {},
   "outputs": [],
   "source": [
    "file_names = get_file_names(user_dir)\n",
    "#print(file_names)"
   ]
  },
  {
   "cell_type": "code",
   "execution_count": 31,
   "id": "4101b2aa",
   "metadata": {},
   "outputs": [],
   "source": [
    "#read user info data\n",
    "user_data = pd.read_csv(user_dir+ '/info.csv')"
   ]
  },
  {
   "cell_type": "code",
   "execution_count": 32,
   "id": "ac5c6ea7",
   "metadata": {},
   "outputs": [],
   "source": [
    "folder_data = {}\n",
    "for file_name in file_names:\n",
    "    #print(file_name)\n",
    "    if (file_name.endswith(\".xlsx\") or file_name.endswith(\".csv\")) & (\"info\" not in file_name):\n",
    "        if file_name.endswith(\".csv\"):\n",
    "            fix_data = pd.read_csv(user_dir + '/' + file_name)\n",
    "            #calculate start column\n",
    "            fix_data['start'] = fix_data['duration'].shift(fill_value=1).cumsum()\n",
    "            folder_data[file_name.replace(\".csv\", \"\")] = fix_data\n",
    "        \n"
   ]
  },
  {
   "cell_type": "code",
   "execution_count": 33,
   "id": "c9839f10",
   "metadata": {},
   "outputs": [],
   "source": [
    "df = pd.DataFrame()"
   ]
  },
  {
   "cell_type": "code",
   "execution_count": 34,
   "id": "a676ac64",
   "metadata": {},
   "outputs": [],
   "source": [
    "#define a dataframe for storing user data:\n",
    "df = pd.DataFrame(columns=['participant_id', 'task_number', 'bug_number',\n",
    "                           'AOI','fixation_count','fixation_rate','total_fixation_time',\n",
    "                           'avg_fixation_time','first_fixation',\n",
    "                           'is_accepted','is_correct'])"
   ]
  },
  {
   "cell_type": "code",
   "execution_count": 35,
   "id": "0097e8ea",
   "metadata": {},
   "outputs": [],
   "source": [
    "#print(df.head())"
   ]
  },
  {
   "cell_type": "code",
   "execution_count": 36,
   "id": "eca646ae",
   "metadata": {},
   "outputs": [],
   "source": [
    "#construct the aoi dataframe\n",
    "i = 0;\n",
    "for key,value in folder_data.items():\n",
    "    fixation_data = folder_data[key]\n",
    "    task_number = key[key.index(\"-\") + 1]\n",
    "    bug_number = user_data['order'][i]\n",
    "    bug_name = 'Bug-'+ str(bug_number) +'.txt'\n",
    "    bug_general = java_data[(bug_number >= java_data['min']) & (bug_number <= java_data['max'])].iloc[0]\n",
    "    is_accepted = user_data['trust'][i]\n",
    "    is_correct = bug_general['quality']\n",
    "    total_fix_count = len(fixation_data)\n",
    "    \n",
    "    #############construct A1\n",
    "    #######bug file fixations\n",
    "    \n",
    "    fix_data_a1 = fixation_data[(fixation_data['fixation_target'] == str(bug_name))]\n",
    "    total_fix_a1 = fix_data_a1['duration'].sum()\n",
    "    avg_fix_a1 = 'NA' if len(fix_data_a1) == 0 else total_fix_a1 / len(fix_data_a1)\n",
    "    first_fix_a1 = 'NA' if len(fix_data_a1) == 0 else fix_data_a1.iloc[0]['start']\n",
    "    \n",
    "    aoi_a1 = pd.DataFrame({'participant_id':user_id,'task_number':task_number , 'bug_number':bug_number,\n",
    "                           'AOI': 'A1', 'fixation_count':len(fix_data_a1),'total_fixation_time':total_fix_a1,\n",
    "                           'fixation_rate':len(fix_data_a1)/total_fix_count,\n",
    "                           'avg_fixation_time':avg_fix_a1,'first_fixation':first_fix_a1,\n",
    "                           'is_accepted':is_accepted,'is_correct':is_correct}, index=[None])\n",
    "     \n",
    "    ############construct A2\n",
    "    ###### source file\n",
    "    fix_data_a2 = fixation_data[(fixation_data['fixation_target'] == (bug_general['src_class']+'.java'))]\n",
    "    total_fix_a2 = fix_data_a2['duration'].sum()\n",
    "    avg_fix_a2 = 'NA' if len(fix_data_a2) == 0 else total_fix_a2 / len(fix_data_a2)\n",
    "    first_fix_a2 = 'NA' if len(fix_data_a2) == 0 else fix_data_a2.iloc[0]['start']\n",
    "\n",
    "    aoi_a2 = pd.DataFrame({'participant_id':user_id,'task_number':task_number, 'bug_number':bug_number,\n",
    "                           'AOI': 'A2','fixation_count':len(fix_data_a2),'total_fixation_time':total_fix_a2,\n",
    "                           'fixation_rate':len(fix_data_a2)/total_fix_count,\n",
    "                           'avg_fixation_time':avg_fix_a2,'first_fixation':first_fix_a2,\n",
    "                           'is_accepted':is_accepted,'is_correct':is_correct}, index=[None])\n",
    "    \n",
    "    #############construct A3\n",
    "    ####### inside the specific source file methods\n",
    "    \n",
    "    fix_data_a3 = fix_data_a2[(fix_data_a2['source_file_line'] >= bug_general['src_method_start']) &\n",
    "                               (fix_data_a2['source_file_line'] <= bug_general['src_method_end'])]\n",
    "    total_fix_a3 = fix_data_a3['duration'].sum()\n",
    "    avg_fix_a3 = 'NA' if len(fix_data_a3) == 0 else total_fix_a3 / len(fix_data_a3)\n",
    "    first_fix_a3 = 'NA' if len(fix_data_a3) == 0 else fix_data_a3.iloc[0]['start']\n",
    "    \n",
    "    aoi_a3 = pd.DataFrame({'participant_id':user_id,'task_number':task_number, 'bug_number':bug_number,\n",
    "                           'AOI': 'A3','fixation_count':len(fix_data_a3),'total_fixation_time':total_fix_a3,\n",
    "                           'fixation_rate':len(fix_data_a3)/total_fix_count,\n",
    "                            'avg_fixation_time':avg_fix_a3,'first_fixation':first_fix_a3,\n",
    "                           'is_accepted':is_accepted,'is_correct':is_correct}, index=[None])\n",
    "    \n",
    "    ############construct A4\n",
    "    # test class\n",
    "    \n",
    "    fix_data_a4 = fixation_data[(fixation_data['fixation_target'] == (bug_general['test_class']+'.java'))]\n",
    "    total_fix_a4 = fix_data_a4['duration'].sum()\n",
    "    avg_fix_a4 = 'NA' if len(fix_data_a4) == 0 else total_fix_a4 / len(fix_data_a4)\n",
    "    first_fix_a4 = 'NA' if len(fix_data_a4) == 0 else fix_data_a4.iloc[0]['start']\n",
    "  \n",
    "    aoi_a4 = pd.DataFrame({'participant_id':user_id,'task_number':task_number, 'bug_number':bug_number,\n",
    "                            'AOI': 'A4','fixation_count':len(fix_data_a4),'total_fixation_time':total_fix_a4,\n",
    "                            'fixation_rate':len(fix_data_a4)/total_fix_count,\n",
    "                            'avg_fixation_time':avg_fix_a4,'first_fixation':first_fix_a4,\n",
    "                            'is_accepted':is_accepted,'is_correct':is_correct}, index=[None])\n",
    "    \n",
    "    ############construct A5\n",
    "    #inside the specific test class methods\n",
    "    \n",
    "    fix_data_a5 = fix_data_a4[(fix_data_a4['source_file_line'] >= bug_general['test_method_start']) &\n",
    "                               (fix_data_a4['source_file_line'] <= bug_general['test_method_end'])]\n",
    "    total_fix_a5 = fix_data_a5['duration'].sum()\n",
    "    avg_fix_a5 = 'NA' if len(fix_data_a5) == 0 else total_fix_a5 / len(fix_data_a5)\n",
    "    first_fix_a5 = 'NA' if len(fix_data_a5) == 0 else fix_data_a5.iloc[0]['start']\n",
    "     \n",
    "    aoi_a5 = pd.DataFrame({'participant_id':user_id,'task_number':task_number, 'bug_number':bug_number,\n",
    "                           'AOI': 'A5','fixation_count':len(fix_data_a5),'total_fixation_time':total_fix_a5,\n",
    "                           'fixation_rate':len(fix_data_a5)/total_fix_count,\n",
    "                            'avg_fixation_time':avg_fix_a5,'first_fixation':first_fix_a5,\n",
    "                            'is_accepted':is_accepted,'is_correct':is_correct}, index=[None])\n",
    "    \n",
    "    ############construct A6\n",
    "    ###### others\n",
    "    \n",
    "    #not a bug file,source file or test file\n",
    "    fix_data_a6 = filtered_data = fixation_data[~((fixation_data['fixation_target'] == str(bug_name)) |\n",
    "                                (fixation_data['fixation_target'] == (bug_general['src_class'] + '.java')) |\n",
    "                                (fixation_data['fixation_target'] == (bug_general['test_class'] + '.java')))]\n",
    "    total_fix_a6 = fix_data_a6['duration'].sum()\n",
    "    avg_fix_a6 = 'NA' if len(fix_data_a6) == 0 else total_fix_a6 / len(fix_data_a6)\n",
    "    first_fix_a6 = 'NA' if len(fix_data_a6) == 0 else fix_data_a6.iloc[0]['start']\n",
    "\n",
    "    \n",
    "    aoi_a6 = pd.DataFrame({'participant_id':user_id,'task_number':task_number, 'bug_number':bug_number,\n",
    "                           'AOI': 'A6','fixation_count':len(fix_data_a6),'total_fixation_time':total_fix_a6,\n",
    "                           'fixation_rate':len(fix_data_a6)/total_fix_count,\n",
    "                           'avg_fixation_time':avg_fix_a6,'first_fixation':first_fix_a6,\n",
    "                           'is_accepted':is_accepted,'is_correct':is_correct}, index=[None])\n",
    "    \n",
    "    ############construct ALL\n",
    "    ######### all fixations\n",
    "    total_fix_a7 = fixation_data['duration'].sum()\n",
    "    avg_fix_a7 = 'NA' if total_fix_count == 0 else total_fix_a7 / total_fix_count\n",
    "\n",
    "    \n",
    "    aoi_other = pd.DataFrame({'participant_id':user_id,'task_number':task_number, 'bug_number':bug_number,\n",
    "                              'AOI': 'All','fixation_count':total_fix_count,'total_fixation_time':total_fix_a7,\n",
    "                              'fixation_rate':1,\n",
    "                               'avg_fixation_time':avg_fix_a7,'first_fixation':'NA',\n",
    "                              'is_accepted':is_accepted,'is_correct':is_correct}, index=[None])\n",
    "    \n",
    "    i+=1\n",
    "    \n",
    "    frames = [df, aoi_a1, aoi_a2, aoi_a3, aoi_a4, aoi_a5, aoi_a6, aoi_other]\n",
    "    df = pd.concat(frames, ignore_index=True)\n",
    "        \n",
    "#print(df.head(15))\n",
    "\n"
   ]
  },
  {
   "cell_type": "code",
   "execution_count": 37,
   "id": "e0648f56",
   "metadata": {},
   "outputs": [],
   "source": [
    "#save the generated fixation to a file in final_data folder \n",
    "file_path = os.path.join(main_dir+'/final_data/', 'p' + user_id + '_fixations.csv')\n",
    "df.to_csv(file_path, index=False)"
   ]
  },
  {
   "cell_type": "code",
   "execution_count": null,
   "id": "ce328ce9",
   "metadata": {},
   "outputs": [],
   "source": []
  }
 ],
 "metadata": {
  "kernelspec": {
   "display_name": "Python 3 (ipykernel)",
   "language": "python",
   "name": "python3"
  },
  "language_info": {
   "codemirror_mode": {
    "name": "ipython",
    "version": 3
   },
   "file_extension": ".py",
   "mimetype": "text/x-python",
   "name": "python",
   "nbconvert_exporter": "python",
   "pygments_lexer": "ipython3",
   "version": "3.9.12"
  }
 },
 "nbformat": 4,
 "nbformat_minor": 5
}
