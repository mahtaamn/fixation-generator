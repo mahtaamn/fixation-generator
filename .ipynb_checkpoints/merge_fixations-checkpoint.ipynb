{
 "cells": [
  {
   "cell_type": "code",
   "execution_count": 1,
   "id": "ec34ed4d",
   "metadata": {},
   "outputs": [
    {
     "name": "stdout",
     "output_type": "stream",
     "text": [
      "/Users/mahtaamn/Documents/Polymtl/Research/fixation-generator\n"
     ]
    }
   ],
   "source": [
    "import os \n",
    "import pandas as pd\n",
    "main_dir = os.getcwd()\n",
    "print(main_dir)"
   ]
  },
  {
   "cell_type": "code",
   "execution_count": 2,
   "id": "8472b902",
   "metadata": {},
   "outputs": [],
   "source": [
    "# Replace with the actual path to your folder\n",
    "folder_path = main_dir+\"/final_data/\"  \n",
    "\n",
    "# Get a list of all CSV files in the folder\n",
    "csv_files = [file for file in os.listdir(folder_path) if file.endswith(\".csv\")]\n",
    "\n",
    "# Create an empty list to store individual DataFrames\n",
    "dataframes = []\n",
    "\n",
    "# Read each CSV file and append its DataFrame to the list\n",
    "for file in csv_files:\n",
    "    file_path = os.path.join(folder_path, file)\n",
    "    df = pd.read_csv(file_path)\n",
    "    dataframes.append(df)\n",
    "\n",
    "# Concatenate all DataFrames into a single DataFrame\n",
    "initial_df = pd.concat(dataframes)\n",
    "\n",
    "# Reset the index of the concatenated DataFrame\n",
    "initial_df.reset_index(drop=True, inplace=True)\n",
    "\n",
    "# Print the resulting DataFrame\n",
    "#print(concatenated_df)\n"
   ]
  },
  {
   "cell_type": "code",
   "execution_count": 3,
   "id": "d823190e",
   "metadata": {},
   "outputs": [
    {
     "name": "stdout",
     "output_type": "stream",
     "text": [
      "84\n"
     ]
    }
   ],
   "source": [
    "print(len(initial_df))"
   ]
  },
  {
   "cell_type": "code",
   "execution_count": 4,
   "id": "4b386780",
   "metadata": {},
   "outputs": [],
   "source": [
    "#save initial dataframe with all the users and data\n",
    "sorted_df = initial_df.sort_values(by=['participant_id', 'task_number'])\n",
    "sorted_df.to_csv('all_fixations.csv', index=False)"
   ]
  },
  {
   "cell_type": "code",
   "execution_count": 5,
   "id": "ffb0e0cb",
   "metadata": {},
   "outputs": [
    {
     "name": "stdout",
     "output_type": "stream",
     "text": [
      "2\n"
     ]
    }
   ],
   "source": [
    "#chekc the number of participants in the initial dataframe\n",
    "grouped_df = initial_df.groupby('participant_id')\n",
    "print(len(grouped_df))"
   ]
  },
  {
   "cell_type": "code",
   "execution_count": null,
   "id": "d451df70",
   "metadata": {},
   "outputs": [],
   "source": []
  }
 ],
 "metadata": {
  "kernelspec": {
   "display_name": "Python 3 (ipykernel)",
   "language": "python",
   "name": "python3"
  },
  "language_info": {
   "codemirror_mode": {
    "name": "ipython",
    "version": 3
   },
   "file_extension": ".py",
   "mimetype": "text/x-python",
   "name": "python",
   "nbconvert_exporter": "python",
   "pygments_lexer": "ipython3",
   "version": "3.9.12"
  }
 },
 "nbformat": 4,
 "nbformat_minor": 5
}
